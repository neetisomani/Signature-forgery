{
 "cells": [
  {
   "cell_type": "markdown",
   "id": "349ca012-24b9-4812-896f-5c5b89ca5f3c",
   "metadata": {},
   "source": [
    "**COMBINING ALL MODELS**"
   ]
  },
  {
   "cell_type": "markdown",
   "id": "4db10c55-ed89-4860-af40-a0c5585b83b7",
   "metadata": {},
   "source": [
    "**WRITER IDENTIFIER**"
   ]
  },
  {
   "cell_type": "code",
   "execution_count": 43,
   "id": "3c0578c8-f321-48e8-a270-06e6bf45e24c",
   "metadata": {},
   "outputs": [],
   "source": [
    "import os\n",
    "import cv2\n",
    "import numpy as np\n",
    "from sklearn.model_selection import train_test_split\n",
    "from tensorflow.keras.models import Sequential\n",
    "from tensorflow.keras.layers import Conv2D, MaxPooling2D, Flatten, Dense, Dropout\n",
    "from tensorflow.keras.utils import to_categorical\n",
    "from tensorflow.keras.optimizers import Adam\n",
    "from tensorflow.keras.callbacks import EarlyStopping\n",
    "from tensorflow.keras.regularizers import l2\n",
    "from sklearn.preprocessing import LabelEncoder\n",
    "from skimage.feature import corner_harris, corner_peaks\n",
    "import matplotlib.pyplot as plt\n",
    "import pandas as pd\n",
    "import seaborn as sns\n",
    "import matplotlib.pyplot as plt"
   ]
  },
  {
   "cell_type": "code",
   "execution_count": 44,
   "id": "618a2043-3dfc-4b76-bd4d-b3a0ef20012d",
   "metadata": {},
   "outputs": [
    {
     "name": "stderr",
     "output_type": "stream",
     "text": [
      "WARNING:absl:Compiled the loaded model, but the compiled metrics have yet to be built. `model.compile_metrics` will be empty until you train or evaluate the model.\n"
     ]
    }
   ],
   "source": [
    "import cv2\n",
    "import numpy as np\n",
    "from tensorflow.keras.models import load_model\n",
    "from tensorflow.keras.preprocessing.image import img_to_array\n",
    "\n",
    "# Load the saved model once\n",
    "model_path = 'signature_recognition_part1.h5'\n",
    "model_writer = load_model(model_path)\n",
    "\n",
    "# Label encoder for decoding the prediction\n",
    "label_encoder = LabelEncoder()\n",
    "label_encoder.classes_ = np.load('label_classes.npy', allow_pickle=True)  # Load previously saved classes\n",
    "\n",
    "def preprocess_image(image_path, img_size=(128, 128)):\n",
    "    image = cv2.imread(image_path, cv2.IMREAD_GRAYSCALE)\n",
    "    if image is None:\n",
    "        raise ValueError(f\"Image not found at {image_path}\")\n",
    "    \n",
    "    resized_image = cv2.resize(image, img_size)\n",
    "    normalized_image = resized_image / 255.0\n",
    "    normalized_image = np.expand_dims(normalized_image, axis=-1)  # Add channel dimension\n",
    "    normalized_image = np.expand_dims(normalized_image, axis=0)   # Add batch dimension\n",
    "    return normalized_image\n",
    "\n",
    "def predict_writer(image_path):\n",
    "    # Preprocess the image\n",
    "    processed_image = preprocess_image(image_path)\n",
    "    \n",
    "    # Predict writer\n",
    "    predictions = model_writer.predict(processed_image,verbose=0)\n",
    "    writer_index = np.argmax(predictions)\n",
    "    writer_number = label_encoder.inverse_transform([writer_index])[0]\n",
    "    \n",
    "    return writer_number"
   ]
  },
  {
   "cell_type": "markdown",
   "id": "4968cfd2-328a-41ab-afe7-21d8d45e5360",
   "metadata": {},
   "source": [
    "**FORGERY DETECTION**"
   ]
  },
  {
   "cell_type": "code",
   "execution_count": 45,
   "id": "c0f9cad2-fea2-4295-8cdd-725788900317",
   "metadata": {},
   "outputs": [],
   "source": [
    "import os\n",
    "import cv2\n",
    "import numpy as np\n",
    "from sklearn.model_selection import train_test_split\n",
    "from sklearn.preprocessing import StandardScaler\n",
    "from sklearn.svm import SVC\n",
    "from sklearn.metrics import classification_report, accuracy_score\n",
    "from skimage.feature import local_binary_pattern, graycomatrix, graycoprops\n",
    "from tensorflow.keras.preprocessing.image import ImageDataGenerator\n",
    "import cv2\n",
    "from skimage.feature import corner_harris, corner_peaks\n",
    "from sklearn.svm import SVC\n",
    "import joblib\n",
    "import os\n",
    "import cv2\n",
    "import numpy as np\n",
    "img_size = (128, 128)"
   ]
  },
  {
   "cell_type": "code",
   "execution_count": 54,
   "id": "630191fa-cf87-4cf7-b80c-501212d0f07c",
   "metadata": {},
   "outputs": [],
   "source": [
    "# Define the function for image classification\n",
    "def forgery_detection(image_path,writerid):\n",
    "    \n",
    "    img = cv2.imread(image_path, cv2.IMREAD_GRAYSCALE)\n",
    "    if img is None:\n",
    "        raise ValueError(\"Image not found or unable to open.\")\n",
    "    \n",
    "    # Resize and preprocess the image\n",
    "    img = cv2.resize(img, img_size)\n",
    "    \n",
    "    # Extract features\n",
    "    lbp = local_binary_pattern(img, P=1, R=4, method=\"uniform\").flatten()\n",
    "    glcm = graycomatrix(img, distances=[1], angles=[0], symmetric=True, normed=True)\n",
    "    contrast = graycoprops(glcm, prop='contrast')[0, 0]\n",
    "    mean = img.mean()\n",
    "    std = img.std()\n",
    "    corners = corner_harris(img)\n",
    "    corner_count = np.sum(corners > 0.01 * corners.max()) \n",
    "    \n",
    "    #features = np.hstack([lbp.mean(), lbp.std(), contrast, mean, std,corner_count]).reshape(1, -1)\n",
    "    features = np.hstack([lbp.mean()]).reshape(1, -1)\n",
    "\n",
    "    # Load scaler back \n",
    "    model_dir = \"svm_models\"\n",
    "    model_path = os.path.join(model_dir, f\"signature_scaler_writer_{writerid}.joblib\")\n",
    "    scaler = joblib.load(model_path)\n",
    "    # Scale features\n",
    "    features = scaler.transform(features)\n",
    "\n",
    "    \n",
    "    # Load models back \n",
    "    model_dir = \"svm_models\"\n",
    "    model_path = os.path.join(model_dir, f\"signature_classifier_writer_{writerid}.joblib\")\n",
    "    model = joblib.load(model_path)\n",
    "    # Predict using the trained model\n",
    "    prediction = model.predict(features)\n",
    "    \n",
    "    return \"Genuine\" if prediction[0] == 0 else \"Forged\""
   ]
  },
  {
   "cell_type": "markdown",
   "id": "121248c2-354c-44c6-b64e-375de103fe8d",
   "metadata": {},
   "source": [
    "**COMPLETE MODEL EVALUATION**"
   ]
  },
  {
   "cell_type": "code",
   "execution_count": 55,
   "id": "79d57487-2d3f-4486-8b2d-a6d6c87eab7d",
   "metadata": {},
   "outputs": [
    {
     "name": "stdout",
     "output_type": "stream",
     "text": [
      "1 2 3 4 5 6 7 8 9 10 11 12 13 14 15 16 17 18 19 20 21 22 23 24 25 26 27 28 29 30 31 32 33 34 35 36 37 38 39 40 41 42 43 44 45 46 47 48 49 50 51 52 53 54 55 \n",
      "Evalution of combined model completed!\n"
     ]
    }
   ],
   "source": [
    "correct_classify=0\n",
    "total = 0 \n",
    "TP=0\n",
    "TN=0\n",
    "FP=0\n",
    "FN=0\n",
    "for i in range(1,56):\n",
    "    print(i,end=\" \")\n",
    "    for j in range(1,25):\n",
    "        image_path = 'signatures/full_forg/forgeries_'+ str(i)+'_'+str(j)+'.png'\n",
    "        writerid = predict_writer(image_path)\n",
    "        result = forgery_detection(image_path,writerid)\n",
    "        if result == 'Forged':\n",
    "            TN+=1\n",
    "            correct_classify+=1\n",
    "        if result == 'Genuine':\n",
    "            FP+=1\n",
    "        total+=1\n",
    "    for j in range(1,25):\n",
    "        image_path = 'signatures/full_org/original_'+ str(i)+'_'+str(j)+'.png'\n",
    "        writerid = predict_writer(image_path)\n",
    "        result = forgery_detection(image_path,writerid)\n",
    "        if result == 'Forged':\n",
    "            FN+=1\n",
    "        if result == 'Genuine':\n",
    "            TP+=1\n",
    "            correct_classify+=1\n",
    "        total+=1\n",
    "print(\"\\nEvalution of combined model completed!\")"
   ]
  },
  {
   "cell_type": "code",
   "execution_count": 56,
   "id": "a96d2ecc-2c22-4033-ad4c-9fef24590ec3",
   "metadata": {},
   "outputs": [
    {
     "data": {
      "text/plain": [
       "2383"
      ]
     },
     "execution_count": 56,
     "metadata": {},
     "output_type": "execute_result"
    }
   ],
   "source": [
    "correct_classify"
   ]
  },
  {
   "cell_type": "code",
   "execution_count": 57,
   "id": "6bcac646-cab6-44eb-b203-ce65ebb69c42",
   "metadata": {},
   "outputs": [
    {
     "name": "stdout",
     "output_type": "stream",
     "text": [
      "Overall accuracy of model is 90.27%.\n"
     ]
    }
   ],
   "source": [
    "acc_score=round(correct_classify/total,4)\n",
    "print('Overall accuracy of model is ',acc_score*100,'%.',sep='')"
   ]
  },
  {
   "cell_type": "code",
   "execution_count": 58,
   "id": "a291281a-3930-4a77-b5a4-f25d326729c8",
   "metadata": {},
   "outputs": [
    {
     "data": {
      "text/plain": [
       "[[1267, 53], [204, 1116]]"
      ]
     },
     "execution_count": 58,
     "metadata": {},
     "output_type": "execute_result"
    }
   ],
   "source": [
    "cnf = [[TP,FN],[FP,TN]]\n",
    "cnf"
   ]
  },
  {
   "cell_type": "code",
   "execution_count": 59,
   "id": "97d4dce5-57dd-4d23-b6fe-47b4f886565b",
   "metadata": {},
   "outputs": [
    {
     "data": {
      "text/plain": [
       "Text(0.5, 1.0, 'Confusion Matrix for Signature Forgery Detection')"
      ]
     },
     "execution_count": 59,
     "metadata": {},
     "output_type": "execute_result"
    },
    {
     "data": {
      "image/png": "[encoded data removed]",
      "text/plain": [
       "<Figure size 640x480 with 2 Axes>"
      ]
     },
     "metadata": {},
     "output_type": "display_data"
    }
   ],
   "source": [
    "sns.heatmap(cnf,annot=True,fmt='g')\n",
    "plt.xlabel('Predicted Class')\n",
    "plt.ylabel('Actual Class')\n",
    "plt.title('Confusion Matrix for Signature Forgery Detection')"
   ]
  },
  {
   "cell_type": "markdown",
   "id": "0a4453c7-95d2-4fe6-886e-752ca6788da7",
   "metadata": {},
   "source": [
    "__*EXAMPLE WITH A SIGNATURE IMAGE*__"
   ]
  },
  {
   "cell_type": "code",
   "execution_count": 60,
   "id": "01d68c9e-84df-4393-8806-5561c0fec334",
   "metadata": {},
   "outputs": [
    {
     "name": "stdout",
     "output_type": "stream",
     "text": [
      "Signature belong to Writer 1 and it is a Forged signature.\n"
     ]
    }
   ],
   "source": [
    "path = 'signatures/full_forg/forgeries_1_2.png'\n",
    "writer = predict_writer(path)\n",
    "prediction = forgery_detection(path, writer)\n",
    "\n",
    "print(f\"Signature belong to Writer {writer} and it is a {prediction} signature.\")"
   ]
  },
  {
   "cell_type": "code",
   "execution_count": null,
   "id": "052e995f-a66b-4b8a-82ee-cb28127e1e29",
   "metadata": {},
   "outputs": [],
   "source": []
  }
 ],
 "metadata": {
  "kernelspec": {
   "display_name": "Python 3 (ipykernel)",
   "language": "python",
   "name": "python3"
  },
  "language_info": {
   "codemirror_mode": {
    "name": "ipython",
    "version": 3
   },
   "file_extension": ".py",
   "mimetype": "text/x-python",
   "name": "python",
   "nbconvert_exporter": "python",
   "pygments_lexer": "ipython3",
   "version": "3.12.4"
  }
 },
 "nbformat": 4,
 "nbformat_minor": 5
}
